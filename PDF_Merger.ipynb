{
 "cells": [
  {
   "cell_type": "code",
   "execution_count": 8,
   "id": "c75a54b3",
   "metadata": {},
   "outputs": [],
   "source": [
    "import PyPDF2"
   ]
  },
  {
   "cell_type": "code",
   "execution_count": 10,
   "id": "7fcbc569",
   "metadata": {},
   "outputs": [],
   "source": [
    "def merge_files(file1, file2, output ):\n",
    "    \n",
    "    # Open the files that have to be merged one by one\n",
    "    File1 = open(file1, 'rb')\n",
    "    File2 = open(file2, 'rb')\n",
    "    # Read the files that you have opened\n",
    "    pdf1Reader = PyPDF2.PdfFileReader(File1)\n",
    "    pdf2Reader = PyPDF2.PdfFileReader(File2)\n",
    "\n",
    "    # Create a new PdfFileWriter object which represents a blank PDF document\n",
    "    pdfWriter = PyPDF2.PdfFileWriter()\n",
    "\n",
    "    # Loop through all the pagenumbers for the first document\n",
    "    for pageNum in range(pdf1Reader.numPages):\n",
    "        pageObj = pdf1Reader.getPage(pageNum)\n",
    "        pdfWriter.addPage(pageObj)\n",
    "\n",
    "    # Loop through all the pagenumbers for the second document\n",
    "    for pageNum in range(pdf2Reader.numPages):\n",
    "        pageObj = pdf2Reader.getPage(pageNum)\n",
    "        pdfWriter.addPage(pageObj)\n",
    "\n",
    "    # all pages were copied in both the NECPs, now write them into the a new document\n",
    "    pdfOutputFile = open(output, 'wb')\n",
    "    pdfWriter.write(pdfOutputFile)\n",
    "\n",
    "    # Close all the files - the ones created as well as the ones that just were opened\n",
    "    pdfOutputFile.close()\n",
    "    File1.close()\n",
    "    File2.close()\n",
    "    print(\"success\")"
   ]
  },
  {
   "cell_type": "code",
   "execution_count": 14,
   "id": "6e7e620f",
   "metadata": {},
   "outputs": [
    {
     "name": "stdout",
     "output_type": "stream",
     "text": [
      "success\n"
     ]
    }
   ],
   "source": [
    "merge_files('data/be_final_necp_parta_en_0.pdf', 'data/be_final_necp_partb_en_0.pdf', 'data/be_final_necp_main_en_0.pdf')"
   ]
  },
  {
   "cell_type": "code",
   "execution_count": 15,
   "id": "4cb253c7",
   "metadata": {},
   "outputs": [
    {
     "name": "stdout",
     "output_type": "stream",
     "text": [
      "success\n"
     ]
    }
   ],
   "source": [
    "merge_files('data/pl_final_necp_part_1_3_en_0.pdf', 'data/pl_final_necp_part_4_en_0.pdf', 'data/pl_final_necp_temp_en_0.pdf')"
   ]
  },
  {
   "cell_type": "code",
   "execution_count": 16,
   "id": "ae4f1d92",
   "metadata": {},
   "outputs": [
    {
     "name": "stdout",
     "output_type": "stream",
     "text": [
      "success\n"
     ]
    }
   ],
   "source": [
    "merge_files('data/pl_final_necp_temp_en_0.pdf', 'data/pl_final_necp_part_5_en_0.pdf', 'data/pl_final_necp_main_en_0.pdf')"
   ]
  }
 ],
 "metadata": {
  "kernelspec": {
   "display_name": "Python 3",
   "language": "python",
   "name": "python3"
  },
  "language_info": {
   "codemirror_mode": {
    "name": "ipython",
    "version": 3
   },
   "file_extension": ".py",
   "mimetype": "text/x-python",
   "name": "python",
   "nbconvert_exporter": "python",
   "pygments_lexer": "ipython3",
   "version": "3.8.8"
  }
 },
 "nbformat": 4,
 "nbformat_minor": 5
}
